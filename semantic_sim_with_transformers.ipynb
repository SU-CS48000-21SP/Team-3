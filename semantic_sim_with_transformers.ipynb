{
  "cells": [
    {
      "cell_type": "code",
      "execution_count": null,
      "metadata": {
        "id": "R7xUosztcF1E"
      },
      "outputs": [],
      "source": [
        "! pip install sentence_transformers"
      ]
    },
    {
      "cell_type": "code",
      "execution_count": 4,
      "metadata": {
        "colab": {
          "base_uri": "https://localhost:8080/"
        },
        "id": "4fmYxQr-b55V",
        "outputId": "665a21d8-485b-4b0c-9312-78378bdd987b"
      },
      "outputs": [
        {
          "name": "stdout",
          "output_type": "stream",
          "text": [
            "[nltk_data] Downloading package stopwords to /root/nltk_data...\n",
            "[nltk_data]   Unzipping corpora/stopwords.zip.\n"
          ]
        },
        {
          "data": {
            "text/plain": [
              "True"
            ]
          },
          "execution_count": 4,
          "metadata": {},
          "output_type": "execute_result"
        }
      ],
      "source": [
        "import pandas as pd\n",
        "import numpy as np\n",
        "\n",
        "import json\n",
        "import re\n",
        "\n",
        "from sklearn.metrics.pairwise import cosine_similarity\n",
        "from sklearn.metrics.pairwise import euclidean_distances\n",
        "\n",
        "from nltk.corpus import stopwords\n",
        "from sentence_transformers import SentenceTransformer, util\n",
        "import nltk\n",
        "nltk.download('stopwords')"
      ]
    },
    {
      "cell_type": "code",
      "execution_count": null,
      "metadata": {
        "colab": {
          "base_uri": "https://localhost:8080/"
        },
        "id": "94JQGOlAcELo",
        "outputId": "6bfe0889-7df0-486d-bee6-488600859f2d"
      },
      "outputs": [],
      "source": [
        "! pip install transformers"
      ]
    },
    {
      "cell_type": "code",
      "execution_count": 6,
      "metadata": {
        "id": "SttN0gnechrv"
      },
      "outputs": [],
      "source": [
        "from sentence_transformers import SentenceTransformer, util\n",
        "import numpy as np"
      ]
    },
    {
      "cell_type": "code",
      "execution_count": null,
      "metadata": {
        "id": "WTlz_1vhdGPX"
      },
      "outputs": [],
      "source": [
        "model = SentenceTransformer('stsb-roberta-large')"
      ]
    },
    {
      "cell_type": "code",
      "execution_count": null,
      "metadata": {
        "id": "HuN37bWPf174"
      },
      "outputs": [],
      "source": [
        "with open(\"/content/drive/MyDrive/cs48k/issues_final.json\", 'r') as clean_json_file:\n",
        "    data = json.load(clean_json_file)\n",
        "    issues_df=pd.DataFrame(data, columns=['id', 'title', 'body', 'comments', 'originalId', 'originalTitle', 'originalBody'])\n",
        "\n",
        "    stop_words_l=stopwords.words('english')\n",
        "\n",
        "    issues_df['title_cleaned']=issues_df.title.apply(lambda x: \" \".join(re.sub(r'[^a-zA-Z0-9]',' ',w).lower() for w in x.split() if re.sub(r'[^a-zA-Z]',' ',w).lower() not in stop_words_l) )\n",
        "    issues_df['body_cleaned']=issues_df.body.apply(lambda x: \" \".join(re.sub(r'[^a-zA-Z0-9]',' ',w).lower() for w in str(x).split() if re.sub(r'[^a-zA-Z]',' ',w).lower() not in stop_words_l) )\n",
        "    issues_df['original_title_cleaned']=issues_df.originalTitle.apply(lambda x: \" \".join(re.sub(r'[^a-zA-Z0-9]',' ',w).lower() for w in x.split() if re.sub(r'[^a-zA-Z]',' ',w).lower() not in stop_words_l) )\n",
        "    issues_df['original_body_cleaned']=issues_df.originalBody.apply(lambda x: \" \".join(re.sub(r'[^a-zA-Z0-9]',' ',w).lower() for w in x.split() if re.sub(r'[^a-zA-Z]',' ',w).lower() not in stop_words_l) )\n",
        "\n",
        "    print(issues_df.head())"
      ]
    },
    {
      "cell_type": "code",
      "execution_count": null,
      "metadata": {
        "colab": {
          "base_uri": "https://localhost:8080/"
        },
        "id": "FGxmEum0gBsk",
        "outputId": "a51c1fc7-7b9f-4859-ef26-3029fda0efdc"
      },
      "outputs": [],
      "source": [
        "title_list = list(issues_df['title_cleaned'])\n",
        "print(title_list)\n",
        "print(len(title_list))\n",
        "title_list = title_list[0:40]\n",
        "print(len(title_list))\n",
        "\n"
      ]
    },
    {
      "cell_type": "code",
      "execution_count": 33,
      "metadata": {
        "id": "nm79eIsEgx4_"
      },
      "outputs": [],
      "source": [
        "# encode list of sentences to get their embeddings\n",
        "embedding1 = model.encode(title_list, convert_to_tensor=True)\n",
        "embedding2 = model.encode(title_list, convert_to_tensor=True)# compute similarity scores of two embeddings\n",
        "cosine_scores = util.pytorch_cos_sim(embedding1, embedding2)\n",
        "\n"
      ]
    },
    {
      "cell_type": "code",
      "execution_count": 39,
      "metadata": {
        "id": "72PsioD4jdzd"
      },
      "outputs": [],
      "source": [
        "similars_map = {}\n",
        "for i in range(len(title_list)):\n",
        "    # print(\"issue id:\", issues_df.iloc[i][\"id\"], \" Issue Title:\", title_list[i])\n",
        "    # print(\"Similar Issues:\\n\")\n",
        "    similars_map[(issues_df.iloc[i][\"id\"], issues_df.iloc[i][\"title\"])] = []\n",
        "    for j in range(len(title_list)):\n",
        "        cosine_similarity = cosine_scores[i][j].item()\n",
        "        if cosine_similarity > 0.6 and i != j:\n",
        "            similars_map[(issues_df.iloc[i][\"id\"], issues_df.iloc[i][\"title\"])].append((issues_df.iloc[j], cosine_similarity))\n",
        "            # print(\"issue id:\", issues_df.iloc[j][\"id\"], \" Issue Title:\", title_list[j] )\n",
        "            # print(\"Similarity Score:\", cosine_scores[i][j].item())\n",
        "            # print(\"\\n\")\n",
        "    \n"
      ]
    },
    {
      "cell_type": "code",
      "execution_count": 41,
      "metadata": {
        "colab": {
          "base_uri": "https://localhost:8080/"
        },
        "id": "B82eAdfvOaWw",
        "outputId": "4b2537c2-8039-488a-be59-01fe2f92648c"
      },
      "outputs": [
        {
          "name": "stdout",
          "output_type": "stream",
          "text": [
            "* issue id: 102068  Issue Title: [tool_crash] NoSuchMethodError: NoSuchMethodError: The getter 'assetPathsToEvict' was called on null.Receiver: nullTried calling: assetPathsToEvict\n",
            "  Similar Issues:\n",
            "    1 - Similarity Score: 0.9999991655349731  ->  issue id: 101606  Issue Title: [tool_crash] NoSuchMethodError: NoSuchMethodError: The getter 'assetPathsToEvict' was called on null.Receiver: nullTried calling: assetPathsToEvict\n",
            "\n",
            "\n",
            "* issue id: 101975  Issue Title: [tool_crash] ArgumentError: Invalid argument(s): Cannot find executable for /Users/wangyao/development/flutter/bin/cache/artifacts/engine/android-x64-release/darwin-x64/gen_snapshot.\n",
            "  Similar Issues:\n",
            "    1 - Similarity Score: 0.6019042730331421  ->  issue id: 101764  Issue Title: [tool_crash] FileSystemException: Failed to decode data using encoding 'utf-8', null\n",
            "    2 - Similarity Score: 0.6420588493347168  ->  issue id: 101714  Issue Title: [tool_crash] FileSystemException: Cannot create link, OS Error: Incorrect function., errno = 1\n",
            "    3 - Similarity Score: 0.6019043922424316  ->  issue id: 101678  Issue Title: [tool_crash] FileSystemException: Failed to decode data using encoding 'utf-8', null\n",
            "    4 - Similarity Score: 0.7096668481826782  ->  issue id: 101661  Issue Title: [tool_crash] ProcessException: Process exited abnormally:FAILURE: Build failed with an exception.* What went wrong:Project 'app' not found in root project 'android'.* Try:> Run with --stacktrace option to get the stack trace.> Run with --info or --debug option to get more log output.> Run with --scan to get full insights.* Get more help at https://help.gradle.orgBUILD FAILED in 3s Command: C:\\Users\\asadbek\\Desktop\\projects\\ohang\\android\\gradlew.bat, OS error code: 1\n",
            "\n",
            "\n",
            "* issue id: 101876  Issue Title: [tool_crash] FormatException\n",
            "  Similar Issues:\n",
            "    1 - Similarity Score: 0.7014891505241394  ->  issue id: 101742  Issue Title: [tool_crash] HttpException\n",
            "    2 - Similarity Score: 0.7126580476760864  ->  issue id: 101627  Issue Title: [tool_crash] DartDevelopmentServiceException\n",
            "\n",
            "\n",
            "* issue id: 101815  Issue Title: [google_sign_in] Scrolling is too fast on IOS simulators running on Apple Silicon\n",
            "  Similar Issues:\n",
            "    1 - Similarity Score: 0.7286829352378845  ->  issue id: 101655  Issue Title: [google_sign_in] Using dart only initialization not working in ios.\n",
            "\n",
            "\n",
            "* issue id: 101801  Issue Title: [tool_crash] StateError: Bad state: No context with the running Dart application.\n",
            "  Similar Issues:\n",
            "    1 - Similarity Score: 0.6082169413566589  ->  issue id: 101661  Issue Title: [tool_crash] ProcessException: Process exited abnormally:FAILURE: Build failed with an exception.* What went wrong:Project 'app' not found in root project 'android'.* Try:> Run with --stacktrace option to get the stack trace.> Run with --info or --debug option to get more log output.> Run with --scan to get full insights.* Get more help at https://help.gradle.orgBUILD FAILED in 3s Command: C:\\Users\\asadbek\\Desktop\\projects\\ohang\\android\\gradlew.bat, OS error code: 1\n",
            "\n",
            "\n",
            "* issue id: 101787  Issue Title: Null check operator used on a null value (package:flutter/src/services/hardware_keyboard.dart:928)\n",
            "  Similar Issues:\n",
            "    1 - Similarity Score: 0.6276106834411621  ->  issue id: 101669  Issue Title: Null check operator used on a null value in text_painter.dart file.\n",
            "\n",
            "\n",
            "* issue id: 101764  Issue Title: [tool_crash] FileSystemException: Failed to decode data using encoding 'utf-8', null\n",
            "  Similar Issues:\n",
            "    1 - Similarity Score: 0.6019042730331421  ->  issue id: 101975  Issue Title: [tool_crash] ArgumentError: Invalid argument(s): Cannot find executable for /Users/wangyao/development/flutter/bin/cache/artifacts/engine/android-x64-release/darwin-x64/gen_snapshot.\n",
            "    2 - Similarity Score: 0.7155617475509644  ->  issue id: 101714  Issue Title: [tool_crash] FileSystemException: Cannot create link, OS Error: Incorrect function., errno = 1\n",
            "    3 - Similarity Score: 1.0000004768371582  ->  issue id: 101678  Issue Title: [tool_crash] FileSystemException: Failed to decode data using encoding 'utf-8', null\n",
            "\n",
            "\n",
            "* issue id: 101742  Issue Title: [tool_crash] HttpException\n",
            "  Similar Issues:\n",
            "    1 - Similarity Score: 0.7014891505241394  ->  issue id: 101876  Issue Title: [tool_crash] FormatException\n",
            "\n",
            "\n",
            "* issue id: 101714  Issue Title: [tool_crash] FileSystemException: Cannot create link, OS Error: Incorrect function., errno = 1\n",
            "  Similar Issues:\n",
            "    1 - Similarity Score: 0.6420588493347168  ->  issue id: 101975  Issue Title: [tool_crash] ArgumentError: Invalid argument(s): Cannot find executable for /Users/wangyao/development/flutter/bin/cache/artifacts/engine/android-x64-release/darwin-x64/gen_snapshot.\n",
            "    2 - Similarity Score: 0.7155617475509644  ->  issue id: 101764  Issue Title: [tool_crash] FileSystemException: Failed to decode data using encoding 'utf-8', null\n",
            "    3 - Similarity Score: 0.7155616283416748  ->  issue id: 101678  Issue Title: [tool_crash] FileSystemException: Failed to decode data using encoding 'utf-8', null\n",
            "\n",
            "\n",
            "* issue id: 101678  Issue Title: [tool_crash] FileSystemException: Failed to decode data using encoding 'utf-8', null\n",
            "  Similar Issues:\n",
            "    1 - Similarity Score: 0.6019042730331421  ->  issue id: 101975  Issue Title: [tool_crash] ArgumentError: Invalid argument(s): Cannot find executable for /Users/wangyao/development/flutter/bin/cache/artifacts/engine/android-x64-release/darwin-x64/gen_snapshot.\n",
            "    2 - Similarity Score: 1.0000003576278687  ->  issue id: 101764  Issue Title: [tool_crash] FileSystemException: Failed to decode data using encoding 'utf-8', null\n",
            "    3 - Similarity Score: 0.7155617475509644  ->  issue id: 101714  Issue Title: [tool_crash] FileSystemException: Cannot create link, OS Error: Incorrect function., errno = 1\n",
            "\n",
            "\n",
            "* issue id: 101669  Issue Title: Null check operator used on a null value in text_painter.dart file.\n",
            "  Similar Issues:\n",
            "    1 - Similarity Score: 0.6276107430458069  ->  issue id: 101787  Issue Title: Null check operator used on a null value (package:flutter/src/services/hardware_keyboard.dart:928)\n",
            "\n",
            "\n",
            "* issue id: 101661  Issue Title: [tool_crash] ProcessException: Process exited abnormally:FAILURE: Build failed with an exception.* What went wrong:Project 'app' not found in root project 'android'.* Try:> Run with --stacktrace option to get the stack trace.> Run with --info or --debug option to get more log output.> Run with --scan to get full insights.* Get more help at https://help.gradle.orgBUILD FAILED in 3s Command: C:\\Users\\asadbek\\Desktop\\projects\\ohang\\android\\gradlew.bat, OS error code: 1\n",
            "  Similar Issues:\n",
            "    1 - Similarity Score: 0.7096668481826782  ->  issue id: 101975  Issue Title: [tool_crash] ArgumentError: Invalid argument(s): Cannot find executable for /Users/wangyao/development/flutter/bin/cache/artifacts/engine/android-x64-release/darwin-x64/gen_snapshot.\n",
            "    2 - Similarity Score: 0.6082169413566589  ->  issue id: 101801  Issue Title: [tool_crash] StateError: Bad state: No context with the running Dart application.\n",
            "\n",
            "\n",
            "* issue id: 101655  Issue Title: [google_sign_in] Using dart only initialization not working in ios.\n",
            "  Similar Issues:\n",
            "    1 - Similarity Score: 0.7286829948425293  ->  issue id: 101815  Issue Title: [google_sign_in] Scrolling is too fast on IOS simulators running on Apple Silicon\n",
            "\n",
            "\n",
            "* issue id: 101627  Issue Title: [tool_crash] DartDevelopmentServiceException\n",
            "  Similar Issues:\n",
            "    1 - Similarity Score: 0.7126578688621521  ->  issue id: 101876  Issue Title: [tool_crash] FormatException\n",
            "\n",
            "\n",
            "* issue id: 101606  Issue Title: [tool_crash] NoSuchMethodError: NoSuchMethodError: The getter 'assetPathsToEvict' was called on null.Receiver: nullTried calling: assetPathsToEvict\n",
            "  Similar Issues:\n",
            "    1 - Similarity Score: 0.9999992847442627  ->  issue id: 102068  Issue Title: [tool_crash] NoSuchMethodError: NoSuchMethodError: The getter 'assetPathsToEvict' was called on null.Receiver: nullTried calling: assetPathsToEvict\n",
            "\n",
            "\n"
          ]
        }
      ],
      "source": [
        "for k, v in similars_map.items():\n",
        "  if len(v) > 0:\n",
        "    print(\"* issue id:\", k[0], \" Issue Title:\", k[1])\n",
        "    print(\"  Similar Issues:\")\n",
        "    i = 1\n",
        "    for issue, cosine in v:\n",
        "       print(\"   \", i , \"- Similarity Score:\", cosine, \" ->  issue id:\", issue[\"id\"], \" Issue Title:\", issue[\"title\"])\n",
        "       i+= 1\n",
        "    print(\"\\n\")\n",
        "\n"
      ]
    }
  ],
  "metadata": {
    "colab": {
      "collapsed_sections": [],
      "name": "semantic_sim_with_transformers.ipynb",
      "provenance": []
    },
    "interpreter": {
      "hash": "07644dddbf6eb4f59c0c0def6f458d9bda8f4f71bcfe6e1f3e72f0af04527a35"
    },
    "kernelspec": {
      "display_name": "Python 3.8.10 ('nlp')",
      "language": "python",
      "name": "python3"
    },
    "language_info": {
      "name": "python",
      "version": "3.8.10"
    }
  },
  "nbformat": 4,
  "nbformat_minor": 0
}
