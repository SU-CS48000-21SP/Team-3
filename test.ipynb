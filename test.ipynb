{
 "cells": [
  {
   "cell_type": "code",
   "execution_count": null,
   "metadata": {},
   "outputs": [
    {
     "ename": "",
     "evalue": "",
     "output_type": "error",
     "traceback": [
      "\u001b[1;31mJupyter cannot be started. Error attempting to locate jupyter: Running cells with 'Python 3.9.7 64-bit' requires notebook and jupyter package.\n",
      "Run the following command to install 'jupyter and notebook' into the Python environment. \n",
      "Command: 'python -m pip install jupyter notebook -U\n",
      "or\n",
      "conda install jupyter notebook -U'\n",
      "Click <a href='https://aka.ms/installJupyterForVSCode'>here</a> for more info."
     ]
    }
   ],
   "source": [
    "import json\n",
    "with open(\"issues_final.json\", 'r') as final_json_file:\n",
    "    data = json.load(final_json_file)"
   ]
  },
  {
   "cell_type": "code",
   "execution_count": 3,
   "metadata": {},
   "outputs": [
    {
     "data": {
      "text/plain": [
       "387"
      ]
     },
     "execution_count": 3,
     "metadata": {},
     "output_type": "execute_result"
    }
   ],
   "source": [
    "len(data)"
   ]
  },
  {
   "cell_type": "code",
   "execution_count": 9,
   "metadata": {},
   "outputs": [
    {
     "name": "stderr",
     "output_type": "stream",
     "text": [
      "[nltk_data] Downloading package stopwords to\n",
      "[nltk_data]     C:\\Users\\gs123\\AppData\\Roaming\\nltk_data...\n",
      "[nltk_data]   Package stopwords is already up-to-date!\n"
     ]
    },
    {
     "data": {
      "text/plain": [
       "True"
      ]
     },
     "execution_count": 9,
     "metadata": {},
     "output_type": "execute_result"
    }
   ],
   "source": [
    "import string\n",
    "import nltk\n",
    "from nltk.corpus import stopwords\n",
    "nltk.download('stopwords')"
   ]
  },
  {
   "cell_type": "code",
   "execution_count": 10,
   "metadata": {},
   "outputs": [],
   "source": [
    "stop_words = set(stopwords.words('english'))\n",
    "stop_words.add(\"flutter\")\n",
    "commons = []\n",
    "commonWords = []\n",
    "for current in data:\n",
    "    ex = current[\"title\"].translate(str.maketrans(string.punctuation, ' '*len(string.punctuation))).lower()\n",
    "    originalEx = current[\"originalTitle\"].translate(str.maketrans(string.punctuation, ' '*len(string.punctuation))).lower()\n",
    "\n",
    "    word_tokens = ex.split()\n",
    "    filtered = [w for w in word_tokens if not w in stop_words]\n",
    "\n",
    "    word_tokens = originalEx.split()\n",
    "    originalFiltered = [w for w in word_tokens if not w in stop_words]\n",
    "\n",
    "    common = 0\n",
    "    x = \"\"\n",
    "    for word in filtered:\n",
    "        if word in originalFiltered:\n",
    "            common+=1\n",
    "            if common == 1: x = word\n",
    "         \n",
    "    commons.append(common)\n",
    "    if(common == 1):\n",
    "        commonWords.append(x)\n"
   ]
  },
  {
   "cell_type": "code",
   "execution_count": 11,
   "metadata": {},
   "outputs": [
    {
     "name": "stdout",
     "output_type": "stream",
     "text": [
      "84\n",
      "325\n",
      "['web', 'dartdevelopmentserviceexception', 'desktop', 'android', 'web', 'android', 'horizontal', 'chrome', 'crash', 'web', 'ios', 'delay', 'web', 'web', 'proposal', 'web', 'safari', 'versioning', 'doctor', 'overscroll', 'isolate', 'canvaskit', 'dragging', 'web', 'missingpluginexception', 'ignorepointer', 'dartdevelopmentserviceexception', 'webview', 'flavor', 'ios', 'dartdevelopmentserviceexception', 'doctor', 'wiperror', 'text', 'seo', 'exception', 'nestedscrollview', 'target', 'debug', 'background', 'position', 'windows', 'video', 'doctor', 'web', 'selectabletext', 'size', 'plugin', 'size', 'webview', 'input', 'ios', 'ios', 'icons', 'scroll', 'material', 'windows', 'host', 'app', 'ios', 'icons', 'web', 'test', 'web', 'error', 'link', 'formatexception', 'cupertinocontextmenu', 'true', 'autofill', 'username', 'autofill', 'internet', 'keyboard', 'singleinstance', 'rebuilds', 'web', 'doctor', 'scrollbar', 'error', 'android', 'weight', 'error', 'web']\n"
     ]
    }
   ],
   "source": [
    "print(len([common for common in commons if common == 1]))\n",
    "print(len([common for common in commons if common > 0]))\n",
    "print(commonWords)"
   ]
  }
 ],
 "metadata": {
  "interpreter": {
   "hash": "b3f42e638f3fa238f2b8f80f3950e30a402f3954bf22e039c452e74de5787733"
  },
  "kernelspec": {
   "display_name": "Python 3.9.12 64-bit (windows store)",
   "language": "python",
   "name": "python3"
  },
  "language_info": {
   "codemirror_mode": {
    "name": "ipython",
    "version": 3
   },
   "file_extension": ".py",
   "mimetype": "text/x-python",
   "name": "python",
   "nbconvert_exporter": "python",
   "pygments_lexer": "ipython3",
   "version": "3.8.9"
  },
  "orig_nbformat": 4
 },
 "nbformat": 4,
 "nbformat_minor": 2
}
