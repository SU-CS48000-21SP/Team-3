{
  "cells": [
    {
      "cell_type": "code",
      "execution_count": 1,
      "metadata": {
        "colab": {
          "base_uri": "https://localhost:8080/"
        },
        "id": "KY_tlw2z2Le5",
        "outputId": "56a38b21-1be2-4b53-842a-898d72df0f9b"
      },
      "outputs": [
        {
          "name": "stderr",
          "output_type": "stream",
          "text": [
            "[nltk_data] Downloading package stopwords to /home/clk/nltk_data...\n",
            "[nltk_data]   Package stopwords is already up-to-date!\n"
          ]
        },
        {
          "data": {
            "text/plain": [
              "True"
            ]
          },
          "execution_count": 1,
          "metadata": {},
          "output_type": "execute_result"
        }
      ],
      "source": [
        "import pandas as pd\n",
        "import numpy as np\n",
        "\n",
        "import json\n",
        "import re\n",
        "from sklearn.feature_extraction.text import TfidfVectorizer\n",
        "from sklearn.metrics.pairwise import cosine_similarity\n",
        "from sklearn.metrics.pairwise import euclidean_distances\n",
        "\n",
        "from nltk.corpus import stopwords\n",
        "import nltk\n",
        "nltk.download('stopwords')"
      ]
    },
    {
      "cell_type": "code",
      "execution_count": 2,
      "metadata": {
        "id": "sTiyN9DJhvP7"
      },
      "outputs": [
        {
          "name": "stdout",
          "output_type": "stream",
          "text": [
            "       id                                              title  \\\n",
            "0  102139                        [A11y] Scaffold bottomSheet   \n",
            "1  102138  Platform.executable return null  in Flutter De...   \n",
            "2  102135  When using the physical keyboard on the ipad, ...   \n",
            "3  102076  [cross_file] file.name always returns empty st...   \n",
            "4  102068  [tool_crash] NoSuchMethodError: NoSuchMethodEr...   \n",
            "\n",
            "                                                body  \\\n",
            "0  ## Steps to Reproduce\\r\\n1. Add the following ...   \n",
            "1  Platform.executable  always return  null  in F...   \n",
            "2  ## Steps to Reproduce\\r\\n\\r\\n1. Execute `flutt...   \n",
            "3  `XFile.fromData` implementation of `io` platfo...   \n",
            "4  ## Command\\r\\n```\\r\\nflutter run --flavor ship...   \n",
            "\n",
            "                                            comments  originalId  \\\n",
            "0  [Hi @838, Thanks for filing the issue.  Looks ...       74246   \n",
            "1  [Hi @LaiZhou, Thanks for filing the issue. I c...      102138   \n",
            "2  [Hi @hatano0x06, Thanks for filing the issue. ...       99652   \n",
            "3  [Duplicate of https://github.com/flutter/flutt...       87808   \n",
            "4                              [Duplicate of #89738]       89738   \n",
            "\n",
            "                                       originalTitle  \\\n",
            "0    Proposal to add iOS VoiceOver Two-finger scrub    \n",
            "1  Platform.executable return null  in Flutter De...   \n",
            "2  TextField text reappears after calling `TextEd...   \n",
            "3  [cross_file] Using the name specified in the c...   \n",
            "4  NoSuchMethodError: The getter 'assetPathsToEvi...   \n",
            "\n",
            "                                        originalBody  \\\n",
            "0  \\r\\nThere is a VoiceOver gesture to navigate t...   \n",
            "1  Platform.executable  always return  null  in F...   \n",
            "2  <!-- Thank you for using Flutter!\\r\\n\\r\\n     ...   \n",
            "3  ## Use case\\r\\n\\r\\nHello everyone, \\r\\n\\r\\nI u...   \n",
            "4  ```\\r\\nPerforming hot restart...              ...   \n",
            "\n",
            "                                       title_cleaned  \\\n",
            "0                         a11y  scaffold bottomsheet   \n",
            "1  platform executable return null flutter deskto...   \n",
            "2  using physical keyboard ipad  erased character...   \n",
            "3   cross file  file name always returns empty st...   \n",
            "4   tool crash  nosuchmethoderror  nosuchmethoder...   \n",
            "\n",
            "                                        body_cleaned  \\\n",
            "0     steps reproduce 1  add following code count...   \n",
            "1  platform executable always return null flutter...   \n",
            "2     steps reproduce 1  execute  flutter run  co...   \n",
            "3   xfile fromdata  implementation  io  platform ...   \n",
            "4     command     flutter run   flavor shipsy   d...   \n",
            "\n",
            "                              original_title_cleaned  \\\n",
            "0        proposal add ios voiceover two finger scrub   \n",
            "1  platform executable return null flutter deskto...   \n",
            "2  textfield text reappears calling  texteditingc...   \n",
            "3   cross file  using name specified constructor ...   \n",
            "4  nosuchmethoderror  getter  assetpathstoevict  ...   \n",
            "\n",
            "                               original_body_cleaned  \n",
            "0  voiceover gesture navigate previous screen  tw...  \n",
            "1  platform executable always return null flutter...  \n",
            "2       thank using flutter  looking support  ple...  \n",
            "3     use case hello everyone  use application fi...  \n",
            "4      performing hot restart    nosuchmethoderro...  \n"
          ]
        }
      ],
      "source": [
        "with open(\"issues_final.json\", 'r') as clean_json_file:\n",
        "    data = json.load(clean_json_file)\n",
        "    issues_df=pd.DataFrame(data, columns=['id', 'title', 'body', 'comments', 'originalId', 'originalTitle', 'originalBody'])\n",
        "\n",
        "    stop_words_l=stopwords.words('english')\n",
        "\n",
        "    issues_df['title_cleaned']=issues_df.title.apply(lambda x: \" \".join(re.sub(r'[^a-zA-Z0-9]',' ',w).lower() for w in x.split() if re.sub(r'[^a-zA-Z]',' ',w).lower() not in stop_words_l) )\n",
        "    issues_df['body_cleaned']=issues_df.body.apply(lambda x: \" \".join(re.sub(r'[^a-zA-Z0-9]',' ',w).lower() for w in str(x).split() if re.sub(r'[^a-zA-Z]',' ',w).lower() not in stop_words_l) )\n",
        "    issues_df['original_title_cleaned']=issues_df.originalTitle.apply(lambda x: \" \".join(re.sub(r'[^a-zA-Z0-9]',' ',w).lower() for w in x.split() if re.sub(r'[^a-zA-Z]',' ',w).lower() not in stop_words_l) )\n",
        "    issues_df['original_body_cleaned']=issues_df.originalBody.apply(lambda x: \" \".join(re.sub(r'[^a-zA-Z0-9]',' ',w).lower() for w in x.split() if re.sub(r'[^a-zA-Z]',' ',w).lower() not in stop_words_l) )\n",
        "\n",
        "    print(issues_df.head())"
      ]
    },
    {
      "cell_type": "code",
      "execution_count": 7,
      "metadata": {},
      "outputs": [
        {
          "data": {
            "text/plain": [
              "0                          [A11y] Scaffold bottomSheet\n",
              "1    Platform.executable return null  in Flutter De...\n",
              "2    When using the physical keyboard on the ipad, ...\n",
              "3    [cross_file] file.name always returns empty st...\n",
              "4    [tool_crash] NoSuchMethodError: NoSuchMethodEr...\n",
              "Name: title, dtype: object"
            ]
          },
          "execution_count": 7,
          "metadata": {},
          "output_type": "execute_result"
        }
      ],
      "source": [
        "issues_df['title'].head(5)"
      ]
    },
    {
      "cell_type": "code",
      "execution_count": 4,
      "metadata": {},
      "outputs": [
        {
          "data": {
            "text/plain": [
              "0                           a11y  scaffold bottomsheet\n",
              "1    platform executable return null flutter deskto...\n",
              "2    using physical keyboard ipad  erased character...\n",
              "3     cross file  file name always returns empty st...\n",
              "4     tool crash  nosuchmethoderror  nosuchmethoder...\n",
              "Name: title_cleaned, dtype: object"
            ]
          },
          "execution_count": 4,
          "metadata": {},
          "output_type": "execute_result"
        }
      ],
      "source": [
        "issues_df['title_cleaned'].head(5)"
      ]
    },
    {
      "cell_type": "code",
      "execution_count": 3,
      "metadata": {},
      "outputs": [
        {
          "name": "stderr",
          "output_type": "stream",
          "text": [
            "/home/clk/.virtualenv/nlp/lib/python3.8/site-packages/tqdm/auto.py:22: TqdmWarning: IProgress not found. Please update jupyter and ipywidgets. See https://ipywidgets.readthedocs.io/en/stable/user_install.html\n",
            "  from .autonotebook import tqdm as notebook_tqdm\n"
          ]
        }
      ],
      "source": [
        "from sentence_transformers import SentenceTransformer"
      ]
    },
    {
      "cell_type": "code",
      "execution_count": 5,
      "metadata": {},
      "outputs": [],
      "source": [
        "sbert_model = SentenceTransformer('bert-base-nli-mean-tokens')"
      ]
    },
    {
      "cell_type": "code",
      "execution_count": 6,
      "metadata": {},
      "outputs": [],
      "source": [
        "document_embeddings = sbert_model.encode(issues_df['title_cleaned'])"
      ]
    },
    {
      "cell_type": "code",
      "execution_count": 7,
      "metadata": {},
      "outputs": [
        {
          "data": {
            "text/plain": [
              "array([[-0.02009699,  0.50457424,  0.54086137, ...,  0.29038247,\n",
              "         0.20009921, -0.36221623],\n",
              "       [-0.34912118,  0.6034052 ,  0.34870645, ..., -0.45596185,\n",
              "         0.44035032, -0.02409698],\n",
              "       [-0.38362905,  0.96553   ,  0.6277289 , ..., -0.7671566 ,\n",
              "        -0.6677468 ,  0.30477855],\n",
              "       ...,\n",
              "       [ 0.44378027,  1.1727988 ,  1.2052165 , ..., -0.18071601,\n",
              "        -0.5482578 ,  0.1302988 ],\n",
              "       [-0.33703682,  0.31050774,  2.145817  , ..., -1.1442635 ,\n",
              "        -0.62470275, -0.12597424],\n",
              "       [ 0.05698044, -0.60508037,  2.0144083 , ..., -0.74232686,\n",
              "        -0.6255462 ,  0.2711879 ]], dtype=float32)"
            ]
          },
          "execution_count": 7,
          "metadata": {},
          "output_type": "execute_result"
        }
      ],
      "source": [
        "document_embeddings"
      ]
    },
    {
      "cell_type": "code",
      "execution_count": null,
      "metadata": {},
      "outputs": [],
      "source": [
        "pairwise_similarities=cosine_similarity(document_embeddings)\n",
        "pairwise_differences=euclidean_distances(document_embeddings)\n"
      ]
    },
    {
      "cell_type": "code",
      "execution_count": null,
      "metadata": {
        "id": "2tNwwAYrpJ6M"
      },
      "outputs": [],
      "source": [
        "def most_similar(issue_id,similarity_matrix,matrix):\n",
        "    print(\"Issue: \", issue_id,\"*\" * 20)\n",
        "    print (f'Issue title: {issues_df.iloc[issue_id][\"title_cleaned\"]}')\n",
        "    print ('\\n')\n",
        "    print ('Similar Issues:')\n",
        "    if matrix=='Cosine Similarity':\n",
        "        similar_ix=np.argsort(similarity_matrix[issue_id])[::-1]\n",
        "    elif matrix=='Euclidean Distance':\n",
        "        similar_ix=np.argsort(similarity_matrix[issue_id])\n",
        "    for ix in similar_ix:\n",
        "        if ix == issue_id:\n",
        "            continue\n",
        "        print('\\n')\n",
        "        print (f'Document: {issues_df.iloc[ix][\"title_cleaned\"]}')\n",
        "        print (f'{matrix} : {similarity_matrix[issue_id][ix]}')\n",
        "        # if (matrix == 'Euclidean Distance' and similarity_matrix[issue_id][ix] != 0 and similarity_matrix[issue_id][ix] < 1.1):\n",
        "        #   print (f'Issue: {issues_df.iloc[ix][\"title_cleaned\"]}')\n",
        "        #   print (f'{matrix} : {similarity_matrix[issue_id][ix]}')\n",
        "        #   print('\\n')\n",
        "\n",
        "        # if (matrix == 'Cosine Similarity' and similarity_matrix[issue_id][ix] != 0 and similarity_matrix[issue_id][ix] > 0.35):\n",
        "        #   print (f'Issue: {issues_df.iloc[ix][\"title_cleaned\"]}')\n",
        "        #   print (f'{matrix} : {similarity_matrix[issue_id][ix]}')\n",
        "        #   print('\\n')\n"
      ]
    },
    {
      "cell_type": "code",
      "execution_count": null,
      "metadata": {
        "colab": {
          "base_uri": "https://localhost:8080/"
        },
        "id": "NsPK28vIpNEC",
        "outputId": "4b496194-b17e-4c75-83ca-706cb6ec160a"
      },
      "outputs": [
        {
          "ename": "NameError",
          "evalue": "name 'issues_df' is not defined",
          "output_type": "error",
          "traceback": [
            "\u001b[0;31m---------------------------------------------------------------------------\u001b[0m",
            "\u001b[0;31mNameError\u001b[0m                                 Traceback (most recent call last)",
            "\u001b[1;32m/media/p/3.JuniorYear_2021_2022/CS48000/Project/DuplicateIssueTracker/BERT_model_1.ipynb Cell 11'\u001b[0m in \u001b[0;36m<cell line: 1>\u001b[0;34m()\u001b[0m\n\u001b[0;32m----> <a href='vscode-notebook-cell:/media/p/3.JuniorYear_2021_2022/CS48000/Project/DuplicateIssueTracker/BERT_model_1.ipynb#ch0000010?line=0'>1</a>\u001b[0m \u001b[39mfor\u001b[39;00m i \u001b[39min\u001b[39;00m \u001b[39mrange\u001b[39m(\u001b[39m0\u001b[39m, issues_df\u001b[39m.\u001b[39mshape[\u001b[39m0\u001b[39m]):\n\u001b[1;32m      <a href='vscode-notebook-cell:/media/p/3.JuniorYear_2021_2022/CS48000/Project/DuplicateIssueTracker/BERT_model_1.ipynb#ch0000010?line=1'>2</a>\u001b[0m   most_similar(i,pairwise_similarities,\u001b[39m'\u001b[39m\u001b[39mCosine Similarity\u001b[39m\u001b[39m'\u001b[39m)\n\u001b[1;32m      <a href='vscode-notebook-cell:/media/p/3.JuniorYear_2021_2022/CS48000/Project/DuplicateIssueTracker/BERT_model_1.ipynb#ch0000010?line=2'>3</a>\u001b[0m   most_similar(i,pairwise_differences,\u001b[39m'\u001b[39m\u001b[39mEuclidean Distance\u001b[39m\u001b[39m'\u001b[39m)\n",
            "\u001b[0;31mNameError\u001b[0m: name 'issues_df' is not defined"
          ]
        }
      ],
      "source": [
        "for i in range(0, issues_df.shape[0]):\n",
        "  most_similar(i,pairwise_similarities,'Cosine Similarity')\n",
        "  most_similar(i,pairwise_differences,'Euclidean Distance')  "
      ]
    }
  ],
  "metadata": {
    "colab": {
      "name": "cs48000-project.ipynb",
      "provenance": []
    },
    "interpreter": {
      "hash": "07644dddbf6eb4f59c0c0def6f458d9bda8f4f71bcfe6e1f3e72f0af04527a35"
    },
    "kernelspec": {
      "display_name": "Python 3.8.10 ('nlp')",
      "language": "python",
      "name": "python3"
    },
    "language_info": {
      "codemirror_mode": {
        "name": "ipython",
        "version": 3
      },
      "file_extension": ".py",
      "mimetype": "text/x-python",
      "name": "python",
      "nbconvert_exporter": "python",
      "pygments_lexer": "ipython3",
      "version": "3.8.10"
    }
  },
  "nbformat": 4,
  "nbformat_minor": 0
}
