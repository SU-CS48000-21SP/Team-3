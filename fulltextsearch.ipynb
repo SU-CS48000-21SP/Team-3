{
 "cells": [
  {
   "cell_type": "code",
   "execution_count": 1,
   "metadata": {},
   "outputs": [],
   "source": [
    "import psycopg2\n",
    "import json\n",
    "import string\n",
    "with open(\"issues_final.json\", 'r') as final_json_file:\n",
    "    data = json.load(final_json_file)"
   ]
  },
  {
   "cell_type": "code",
   "execution_count": 3,
   "metadata": {},
   "outputs": [],
   "source": [
    "host = \"ec2-34-248-169-69.eu-west-1.compute.amazonaws.com\"\n",
    "database = \"d53snj49816hrh\"\n",
    "user = \"vxloljdzouvorj\"\n",
    "password = '50470fc6d490406240df9dfc17ef551598f30e86238d1f7e9ea7d766498d0a02'\n",
    "port = 5432\n",
    "conn = None\n",
    "cur = None\n",
    "try:\n",
    "    conn = psycopg2.connect(\n",
    "            host = host,\n",
    "            user = user,\n",
    "            dbname = database,\n",
    "            password = password,\n",
    "            port = port)\n",
    "\n",
    "    cur = conn.cursor()\n",
    "    SQLscript = '''\n",
    "                INSERT INTO issues (id, title, body) VALUES (%s, %s, %s)\n",
    "                '''\n",
    "    for current in data:\n",
    "        id = current[\"originalId\"]\n",
    "        title = ' '.join(current[\"originalTitle\"].translate(str.maketrans(string.punctuation, ' '*len(string.punctuation))).lower().split())\n",
    "        body = ' '.join(current[\"originalBody\"].translate(str.maketrans(string.punctuation, ' '*len(string.punctuation))).lower().split())\n",
    "        values = (id, title, body)\n",
    "        try:    \n",
    "            cur.execute(SQLscript, values)\n",
    "            conn.commit()\n",
    "        except Exception as SQLerr:\n",
    "            conn.rollback()\n",
    "            print(SQLerr)\n",
    "\n",
    "except Exception as error:\n",
    "    print(error)"
   ]
  },
  {
   "cell_type": "code",
   "execution_count": 20,
   "metadata": {},
   "outputs": [],
   "source": [
    "if cur is not None:\n",
    "    cur.close()\n",
    "if conn is not None:\n",
    "    conn.close()"
   ]
  },
  {
   "cell_type": "code",
   "execution_count": 9,
   "metadata": {},
   "outputs": [
    {
     "name": "stderr",
     "output_type": "stream",
     "text": [
      "[nltk_data] Downloading package stopwords to\n",
      "[nltk_data]     C:\\Users\\gs123\\AppData\\Roaming\\nltk_data...\n",
      "[nltk_data]   Package stopwords is already up-to-date!\n"
     ]
    }
   ],
   "source": [
    "import string\n",
    "import nltk\n",
    "from nltk.corpus import stopwords\n",
    "nltk.download('stopwords')\n",
    "stop_words = set(stopwords.words('english'))\n",
    "stop_words.add(\"flutter\")\n",
    "stop_words.add(\"dart\")"
   ]
  },
  {
   "cell_type": "code",
   "execution_count": 55,
   "metadata": {},
   "outputs": [],
   "source": [
    "title = \"tool crash casterror  gradlewrapper updateinner package flutter tools src flutter cache dart 545 49\"\n",
    "ex = title.translate(str.maketrans(string.punctuation, ' '*len(string.punctuation))).lower()\n",
    "word_tokens = ex.split()\n",
    "filtered = [w for w in word_tokens if not w in stop_words]"
   ]
  },
  {
   "cell_type": "code",
   "execution_count": 56,
   "metadata": {},
   "outputs": [],
   "source": [
    "query = \"\"\"SELECT title, ts_rank_cd(to_tsvector('english', title), query) AS rank FROM issues i, to_tsquery('english', ' \"\"\"\n",
    "for i, word in enumerate(filtered):\n",
    "        query+= word\n",
    "        if i != len(filtered) - 1:\n",
    "                query+= ' | ' \n",
    "query +=  \"\"\"  ') as query WHERE to_tsvector('english', title) @@  query ORDER BY RANK DESC\"\"\""
   ]
  },
  {
   "cell_type": "code",
   "execution_count": 54,
   "metadata": {},
   "outputs": [
    {
     "name": "stdout",
     "output_type": "stream",
     "text": [
      "('tool crash casterror 0 gradlewrapper updateinner package flutter tools src flutter cache dart 538 49', 1.0)\n"
     ]
    }
   ],
   "source": [
    "conn = psycopg2.connect(\n",
    "            host = host,\n",
    "            user = user,\n",
    "            dbname = database,\n",
    "            password = password,\n",
    "            port = port)\n",
    "\n",
    "cur = conn.cursor()\n",
    "cur.execute(query) \n",
    "result=cur.fetchall()\n",
    "conn.commit()"
   ]
  }
 ],
 "metadata": {
  "interpreter": {
   "hash": "fb0f10cdec3d741d17a6a58dfe96fc973e8733bddb52b00971a6b45f6c7115fc"
  },
  "kernelspec": {
   "display_name": "Python 3.9.12 64-bit (windows store)",
   "language": "python",
   "name": "python3"
  },
  "language_info": {
   "codemirror_mode": {
    "name": "ipython",
    "version": 3
   },
   "file_extension": ".py",
   "mimetype": "text/x-python",
   "name": "python",
   "nbconvert_exporter": "python",
   "pygments_lexer": "ipython3",
   "version": "3.9.12"
  },
  "orig_nbformat": 4
 },
 "nbformat": 4,
 "nbformat_minor": 2
}
