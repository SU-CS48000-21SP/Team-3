{
 "cells": [
  {
   "cell_type": "code",
   "execution_count": 10,
   "metadata": {},
   "outputs": [],
   "source": [
    "import psycopg2\n",
    "import json\n",
    "import string\n",
    "with open(\"issues_final.json\", 'r') as final_json_file:\n",
    "    data = json.load(final_json_file)"
   ]
  },
  {
   "cell_type": "code",
   "execution_count": null,
   "metadata": {},
   "outputs": [],
   "source": [
    "host = \"ec2-99-80-170-190.eu-west-1.compute.amazonaws.com\"\n",
    "database = \"d7t29ibovqda27\"\n",
    "user = \"yerpxinllkwyth\"\n",
    "password = '0de087f43b0947fc0c4ee384a724d1bcb39f5dbda2e63c972c6ac7e33805f1a2'\n",
    "port = 5432\n",
    "conn = None\n",
    "cur = None\n",
    "try:\n",
    "    conn = psycopg2.connect(\n",
    "            host = host,\n",
    "            user = user,\n",
    "            dbname = database,\n",
    "            password = password,\n",
    "            port = port)\n",
    "\n",
    "    cur = conn.cursor()\n",
    "    SQLscript = '''\n",
    "                INSERT INTO issues (id, title, body) VALUES (%s, %s, %s)\n",
    "                '''\n",
    "    for current in data:\n",
    "        id = current[\"originalId\"]\n",
    "        title = ' '.join(current[\"originalTitle\"].translate(str.maketrans(string.punctuation, ' '*len(string.punctuation))).lower().split())\n",
    "        body = ' '.join(current[\"originalBody\"].translate(str.maketrans(string.punctuation, ' '*len(string.punctuation))).lower().split())\n",
    "        values = (id, title, body)\n",
    "        try:    \n",
    "            cur.execute(SQLscript, values)\n",
    "            conn.commit()\n",
    "        except Exception as SQLerr:\n",
    "            conn.rollback()\n",
    "            print(SQLerr)\n",
    "\n",
    "except Exception as error:\n",
    "    print(error)"
   ]
  },
  {
   "cell_type": "code",
   "execution_count": 20,
   "metadata": {},
   "outputs": [],
   "source": [
    "if cur is not None:\n",
    "    cur.close()\n",
    "if conn is not None:\n",
    "    conn.close()"
   ]
  }
 ],
 "metadata": {
  "interpreter": {
   "hash": "b3f42e638f3fa238f2b8f80f3950e30a402f3954bf22e039c452e74de5787733"
  },
  "kernelspec": {
   "display_name": "Python 3.9.12 64-bit (windows store)",
   "language": "python",
   "name": "python3"
  },
  "language_info": {
   "codemirror_mode": {
    "name": "ipython",
    "version": 3
   },
   "file_extension": ".py",
   "mimetype": "text/x-python",
   "name": "python",
   "nbconvert_exporter": "python",
   "pygments_lexer": "ipython3",
   "version": "3.9.12"
  },
  "orig_nbformat": 4
 },
 "nbformat": 4,
 "nbformat_minor": 2
}
